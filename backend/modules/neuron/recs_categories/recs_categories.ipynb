{
 "cells": [
  {
   "cell_type": "code",
   "execution_count": 1,
   "metadata": {},
   "outputs": [],
   "source": [
    "from random import randint\n",
    "import numpy as np\n",
    "import pandas as pd\n",
    "from sklearn.neighbors import NearestNeighbors\n",
    "from scipy.sparse import csr_matrix\n",
    "import mysql.connector\n",
    "from mysql.connector import Error\n"
   ]
  },
  {
   "cell_type": "code",
   "execution_count": 2,
   "metadata": {},
   "outputs": [],
   "source": [
    "connection = mysql.connector.connect(host='localhost',\n",
    "                                     database='fintech',\n",
    "                                     user='dima',\n",
    "                                     password='fintech9999')\n",
    "                                     "
   ]
  },
  {
   "cell_type": "code",
   "execution_count": 3,
   "metadata": {},
   "outputs": [
    {
     "name": "stdout",
     "output_type": "stream",
     "text": [
      "Connected to MySQL Server version  8.0.27-0ubuntu0.21.04.1\n"
     ]
    }
   ],
   "source": [
    "if connection.is_connected():\n",
    "    db_Info = connection.get_server_info()\n",
    "    print(\"Connected to MySQL Server version \", db_Info)\n",
    "    cursor = connection.cursor(buffered=True)\n",
    "    cursor.execute(\"select database();\")\n",
    "\n",
    "    cursor.execute(\"SELECT (user_id) FROM Receipt\")\n",
    "    userColumn = cursor.fetchall()\n",
    "\n",
    "    cursor.execute(\"SELECT (ammount) FROM Receipt\")\n",
    "    productCostColumn = cursor.fetchall()\n",
    "\n",
    "    cursor.execute(\"SELECT (shop_id) FROM Receipt\")\n",
    "    ShopIdColumn = cursor.fetchall()\n"
   ]
  },
  {
   "cell_type": "code",
   "execution_count": 4,
   "metadata": {},
   "outputs": [],
   "source": [
    "for i in range(0, 700001):\n",
    "    # print(userColumn[i])\n",
    "    if(userColumn[i] != '()'):\n",
    "        # print(str(userColumn[i])[1:-2])\n",
    "        userColumn[i] = int(str(userColumn[i])[1:-2])\n",
    "    else:\n",
    "        userColumn[i] = 0\n",
    "        print('0')\n",
    "\n",
    "    if(productCostColumn[i] != '()'):\n",
    "        # print(str(userColumn[i])[1:-2])\n",
    "        productCostColumn[i] = float(str(productCostColumn[i])[1:-2])\n",
    "    else:\n",
    "        productCostColumn[i] = 0\n",
    "        print('0')\n",
    "\n",
    "    if(ShopIdColumn[i] != '()'):\n",
    "        # print(str(userColumn[i])[1:-2])\n",
    "        ShopIdColumn[i] = str(ShopIdColumn[i])[1:-2]\n",
    "    else:\n",
    "        ShopIdColumn[i] = 0\n",
    "        print('0')\n",
    "        \n",
    "        "
   ]
  },
  {
   "cell_type": "code",
   "execution_count": 5,
   "metadata": {},
   "outputs": [
    {
     "name": "stdout",
     "output_type": "stream",
     "text": [
      "        UserId  ProductCost ShopId\n",
      "0         2217       4500.0      0\n",
      "1          635         40.0      1\n",
      "2          551        259.0      2\n",
      "3         2852         50.0      2\n",
      "4         2365        163.0      3\n",
      "...        ...          ...    ...\n",
      "699996    1859       1399.0      1\n",
      "699997    1387        250.0      2\n",
      "699998    2374         90.0      2\n",
      "699999     245        110.0      2\n",
      "700000    2193         30.0      2\n",
      "\n",
      "[700001 rows x 3 columns]\n"
     ]
    }
   ],
   "source": [
    "data = {'UserId': userColumn,\n",
    "        'ProductCost': productCostColumn, 'ShopId': ShopIdColumn}\n",
    "dataset = pd.DataFrame(data)\n",
    "dataset.to_dict()\n",
    "with open('categories.txt', 'w') as pr:\n",
    "    pr.write(str(dataset.to_dict()))\n",
    "print(dataset)\n"
   ]
  },
  {
   "cell_type": "code",
   "execution_count": null,
   "metadata": {},
   "outputs": [],
   "source": []
  }
 ],
 "metadata": {
  "interpreter": {
   "hash": "30704ed12792fde7c8892e5411a0e1302210d12a27caafc773000d2eef32e5ec"
  },
  "kernelspec": {
   "display_name": "Python 3.9.5 ('fintech': venv)",
   "language": "python",
   "name": "python3"
  },
  "language_info": {
   "codemirror_mode": {
    "name": "ipython",
    "version": 3
   },
   "file_extension": ".py",
   "mimetype": "text/x-python",
   "name": "python",
   "nbconvert_exporter": "python",
   "pygments_lexer": "ipython3",
   "version": "3.9.5"
  },
  "orig_nbformat": 4
 },
 "nbformat": 4,
 "nbformat_minor": 2
}
